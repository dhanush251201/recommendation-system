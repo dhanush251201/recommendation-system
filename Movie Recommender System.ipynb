{
 "cells": [
  {
   "cell_type": "markdown",
   "metadata": {},
   "source": [
    "# Import libraries"
   ]
  },
  {
   "cell_type": "code",
   "execution_count": 7,
   "metadata": {},
   "outputs": [],
   "source": [
    "# import libraries\n",
    "from pyspark.sql import SparkSession\n",
    "spark = SparkSession.builder.appName(\"Recommender System\").config(\"spark.sql.crossJoin.enabled\",\"true\").getOrCreate()\n",
    "from pyspark.ml.recommendation import ALS\n",
    "from pyspark.ml.evaluation import RegressionEvaluator\n",
    "from pyspark.ml.feature import VectorAssembler\n",
    "from pyspark.sql import functions as f"
   ]
  },
  {
   "cell_type": "markdown",
   "metadata": {},
   "source": [
    "# Load and verify data"
   ]
  },
  {
   "cell_type": "code",
   "execution_count": 9,
   "metadata": {},
   "outputs": [],
   "source": [
    "# load and verify data\n",
    "from pyspark.sql.types import StringType, DoubleType, IntegerType, StructType, StructField\n",
    "schema = StructType([StructField('userId', IntegerType(), True),\n",
    "                     StructField('movieId', IntegerType(), True),\n",
    "                     StructField('rating', IntegerType(), True),\n",
    "                     StructField('timestamp', DoubleType(), True)])\n",
    "\n",
    "data = spark.read.csv('ratings.dat',sep = '::', header = False, schema = schema)\n",
    "# Data taken from https://grouplens.org/datasets/movielens/1m/"
   ]
  },
  {
   "cell_type": "code",
   "execution_count": 11,
   "metadata": {},
   "outputs": [
    {
     "name": "stdout",
     "output_type": "stream",
     "text": [
      "root\n",
      " |-- userId: integer (nullable = true)\n",
      " |-- movieId: integer (nullable = true)\n",
      " |-- rating: integer (nullable = true)\n",
      " |-- timestamp: double (nullable = true)\n",
      "\n"
     ]
    }
   ],
   "source": [
    "data.printSchema()"
   ]
  },
  {
   "cell_type": "code",
   "execution_count": 12,
   "metadata": {},
   "outputs": [
    {
     "data": {
      "text/plain": [
       "[Row(userId=1, movieId=1193, rating=5, timestamp=978300760.0),\n",
       " Row(userId=1, movieId=661, rating=3, timestamp=978302109.0),\n",
       " Row(userId=1, movieId=914, rating=3, timestamp=978301968.0)]"
      ]
     },
     "execution_count": 12,
     "metadata": {},
     "output_type": "execute_result"
    }
   ],
   "source": [
    "data.head(3)"
   ]
  },
  {
   "cell_type": "code",
   "execution_count": 13,
   "metadata": {},
   "outputs": [
    {
     "name": "stdout",
     "output_type": "stream",
     "text": [
      "1\n",
      "1193\n",
      "5\n",
      "978300760.0\n"
     ]
    }
   ],
   "source": [
    "for item in data.head(1)[0]:\n",
    "    print(item)"
   ]
  },
  {
   "cell_type": "code",
   "execution_count": 14,
   "metadata": {},
   "outputs": [
    {
     "data": {
      "text/plain": [
       "['userId', 'movieId', 'rating', 'timestamp']"
      ]
     },
     "execution_count": 14,
     "metadata": {},
     "output_type": "execute_result"
    }
   ],
   "source": [
    "data.columns"
   ]
  },
  {
   "cell_type": "code",
   "execution_count": 15,
   "metadata": {},
   "outputs": [
    {
     "name": "stderr",
     "output_type": "stream",
     "text": [
      "23/10/01 13:56:43 WARN SparkStringUtils: Truncated the string representation of a plan since it was too large. This behavior can be adjusted by setting 'spark.sql.debug.maxToStringFields'.\n",
      "                                                                                \r"
     ]
    },
    {
     "name": "stdout",
     "output_type": "stream",
     "text": [
      "+-------+------------------+------------------+------------------+--------------------+\n",
      "|summary|            userId|           movieId|            rating|           timestamp|\n",
      "+-------+------------------+------------------+------------------+--------------------+\n",
      "|  count|           1000209|           1000209|           1000209|             1000209|\n",
      "|   mean| 3024.512347919285|1865.5398981612843| 3.581564453029317| 9.722436954046655E8|\n",
      "| stddev|1728.4126948999715|1096.0406894572482|1.1171018453732606|1.2152558939916052E7|\n",
      "|    min|                 1|                 1|                 1|        9.56703932E8|\n",
      "|    max|              6040|              3952|                 5|        1.04645459E9|\n",
      "+-------+------------------+------------------+------------------+--------------------+\n",
      "\n"
     ]
    }
   ],
   "source": [
    "data.describe().show()"
   ]
  },
  {
   "cell_type": "markdown",
   "metadata": {},
   "source": [
    "# Train Test split"
   ]
  },
  {
   "cell_type": "code",
   "execution_count": 16,
   "metadata": {},
   "outputs": [],
   "source": [
    "# test train split\n",
    "train_data,test_data = data.randomSplit([0.7,0.3])"
   ]
  },
  {
   "cell_type": "code",
   "execution_count": 17,
   "metadata": {},
   "outputs": [
    {
     "name": "stdout",
     "output_type": "stream",
     "text": [
      "+-------+------------------+------------------+------------------+-------------------+\n",
      "|summary|            userId|           movieId|            rating|          timestamp|\n",
      "+-------+------------------+------------------+------------------+-------------------+\n",
      "|  count|            699988|            699988|            699988|             699988|\n",
      "|   mean| 3027.150701154877| 1865.975916730001|3.5819642622444956|9.722421961229407E8|\n",
      "| stddev|1727.9631295847996|1095.5489410345056|1.1170462349542134|1.216796736602763E7|\n",
      "|    min|                 1|                 1|                 1|       9.56703932E8|\n",
      "|    max|              6040|              3952|                 5|       1.04645459E9|\n",
      "+-------+------------------+------------------+------------------+-------------------+\n",
      "\n"
     ]
    }
   ],
   "source": [
    "train_data.describe().show()"
   ]
  },
  {
   "cell_type": "code",
   "execution_count": 18,
   "metadata": {},
   "outputs": [
    {
     "name": "stdout",
     "output_type": "stream",
     "text": [
      "+-------+------------------+------------------+------------------+--------------------+\n",
      "|summary|            userId|           movieId|            rating|           timestamp|\n",
      "+-------+------------------+------------------+------------------+--------------------+\n",
      "|  count|            300221|            300221|            300221|              300221|\n",
      "|   mean|3018.3608275237243| 1864.523287844621|3.5806322675628954|  9.72247191093561E8|\n",
      "| stddev|1729.4476829678836|1097.1875348383253|1.1172327993377649|1.2116576434228351E7|\n",
      "|    min|                 1|                 1|                 1|        9.56703954E8|\n",
      "|    max|              6040|              3952|                 5|       1.046454338E9|\n",
      "+-------+------------------+------------------+------------------+--------------------+\n",
      "\n"
     ]
    }
   ],
   "source": [
    "test_data.describe().show()"
   ]
  },
  {
   "cell_type": "markdown",
   "metadata": {},
   "source": [
    "# Build Model"
   ]
  },
  {
   "cell_type": "code",
   "execution_count": 19,
   "metadata": {},
   "outputs": [],
   "source": [
    "# model building\n",
    "recommender = ALS(maxIter = 5, regParam = 0.01, userCol='userId', itemCol='movieId', ratingCol='rating')\n",
    "model = recommender.fit(train_data)"
   ]
  },
  {
   "cell_type": "code",
   "execution_count": 20,
   "metadata": {},
   "outputs": [
    {
     "name": "stderr",
     "output_type": "stream",
     "text": [
      "23/10/01 13:56:48 WARN InstanceBuilder: Failed to load implementation from:dev.ludovic.netlib.blas.JNIBLAS\n",
      "23/10/01 13:56:48 WARN InstanceBuilder: Failed to load implementation from:dev.ludovic.netlib.blas.VectorBLAS\n",
      "23/10/01 13:56:48 WARN InstanceBuilder: Failed to load implementation from:dev.ludovic.netlib.lapack.JNILAPACK\n"
     ]
    }
   ],
   "source": []
  },
  {
   "cell_type": "markdown",
   "metadata": {},
   "source": [
    "# Evaluate Model"
   ]
  },
  {
   "cell_type": "code",
   "execution_count": 21,
   "metadata": {},
   "outputs": [],
   "source": [
    "# Predition of testing data\n",
    "pred_data = model.transform(test_data)\n",
    "pred_data.show()"
   ]
  },
  {
   "cell_type": "code",
   "execution_count": 22,
   "metadata": {},
   "outputs": [
    {
     "name": "stdout",
     "output_type": "stream",
     "text": [
      "+------+-------+------+------------+----------+\n",
      "|userId|movieId|rating|   timestamp|prediction|\n",
      "+------+-------+------+------------+----------+\n",
      "|     1|    588|     4|9.78824268E8| 3.8116057|\n",
      "|     1|   2018|     4|9.78301777E8| 4.8739533|\n",
      "|     1|   2355|     5|9.78824291E8| 3.2990558|\n",
      "|     1|   2692|     4| 9.7830157E8| 3.5244827|\n",
      "|     1|   2791|     4|9.78302188E8|  4.382037|\n",
      "|     2|    163|     4|9.78299809E8| 2.8751786|\n",
      "|     2|    165|     3|9.78300002E8| 3.1004095|\n",
      "|     1|    594|     4|9.78302268E8| 4.8510346|\n",
      "|     1|   2687|     3|9.78824268E8|  4.271018|\n",
      "|     2|    736|     4|  9.783001E8| 3.3499422|\n",
      "|     2|    648|     4|9.78299913E8| 3.3781297|\n",
      "|     2|    356|     5|9.78299686E8| 4.5485916|\n",
      "|     1|   1907|     4| 9.7882433E8| 4.2699113|\n",
      "|     2|     95|     2|9.78300143E8| 2.6824057|\n",
      "|     2|     21|     1|9.78299839E8|  3.269908|\n",
      "|     2|    515|     5|9.78298542E8| 3.4440072|\n",
      "|     1|    783|     4|9.78824291E8|  3.894491|\n",
      "|     2|    110|     5|9.78298625E8| 4.1631536|\n",
      "|     1|    260|     4| 9.7830076E8| 3.9477203|\n",
      "|     1|   1566|     4| 9.7882433E8| 3.6494691|\n",
      "+------+-------+------+------------+----------+\n",
      "only showing top 20 rows\n",
      "\n"
     ]
    },
    {
     "name": "stderr",
     "output_type": "stream",
     "text": [
      "                                                                                \r"
     ]
    }
   ],
   "source": [
    "pred_data.show()"
   ]
  },
  {
   "cell_type": "code",
   "execution_count": 23,
   "metadata": {},
   "outputs": [
    {
     "name": "stdout",
     "output_type": "stream",
     "text": [
      "Root-mean-square error = nan\n"
     ]
    }
   ],
   "source": [
    "evaluator = RegressionEvaluator(metricName='rmse',labelCol='rating',predictionCol='prediction')\n",
    "print(\"Root-mean-square error = \" + str(evaluator.evaluate(pred_data)))"
   ]
  },
  {
   "cell_type": "code",
   "execution_count": 24,
   "metadata": {},
   "outputs": [],
   "source": [
    "# A NaN result is due to SPARK-14489 and because the model can't predict values for users for which there's no data. \n",
    "# A temporary workaround is to exclude rows with predicted NaN values or to replace them with a constant, for instance,\n",
    "# the general mean rating. However, to map to a real business problem, the data scientist, in collaboration with the \n",
    "# business owner, must define what happens if such an event occurs. For example, you can provide no recommendation for \n",
    "# a user until that user rates a few items. Alternatively, before user rates five items, you can use a user-based recommender\n",
    "# system that's based on the user's profile (that's another recommender system to develop).\n",
    "\n",
    "# Replace predicted NaN values with the average rating and evaluate the model:"
   ]
  },
  {
   "cell_type": "code",
   "execution_count": 25,
   "metadata": {},
   "outputs": [
    {
     "name": "stdout",
     "output_type": "stream",
     "text": [
      "The average rating in the dataset is: 3.581564453029317\n"
     ]
    }
   ],
   "source": [
    "avgRatings = data.select('rating').groupBy().avg().first()[0]\n",
    "print ('The average rating in the dataset is: {}'.format(avgRatings))"
   ]
  },
  {
   "cell_type": "code",
   "execution_count": 26,
   "metadata": {},
   "outputs": [
    {
     "name": "stdout",
     "output_type": "stream",
     "text": [
      "The root mean squared error for our model is: 0.9082971185858143\n"
     ]
    }
   ],
   "source": [
    "# Model Evaluation\n",
    "evaluator = RegressionEvaluator(metricName='rmse', labelCol='rating', predictionCol='prediction')\n",
    "print ('The root mean squared error for our model is: {}'.format(evaluator.evaluate(pred_data.na.fill(avgRatings))))\n",
    "# The root mean squared error for our model is: 0.9082971185858143"
   ]
  },
  {
   "cell_type": "code",
   "execution_count": 27,
   "metadata": {},
   "outputs": [],
   "source": [
    "# Now exclude predicted NaN values and evaluate the model:"
   ]
  },
  {
   "cell_type": "code",
   "execution_count": 28,
   "metadata": {},
   "outputs": [
    {
     "name": "stdout",
     "output_type": "stream",
     "text": [
      "The root mean squared error for our model is: 0.9081952083327971\n"
     ]
    }
   ],
   "source": [
    "evaluator = RegressionEvaluator(metricName='rmse', labelCol='rating', predictionCol='prediction')\n",
    "print ('The root mean squared error for our model is: {}'.format(evaluator.evaluate(pred_data.na.drop())))"
   ]
  },
  {
   "cell_type": "markdown",
   "metadata": {},
   "source": [
    "# Define Movie details "
   ]
  },
  {
   "cell_type": "code",
   "execution_count": 29,
   "metadata": {},
   "outputs": [
    {
     "name": "stdout",
     "output_type": "stream",
     "text": [
      "root\n",
      " |-- movieId: integer (nullable = true)\n",
      " |-- title: string (nullable = true)\n",
      " |-- genres: string (nullable = true)\n",
      "\n"
     ]
    }
   ],
   "source": [
    "# Defining Movie Details\n",
    "schema = StructType([StructField('movieId', IntegerType(), True),\n",
    "                     StructField('title', StringType(), True),\n",
    "                     StructField('genres', StringType(), True)])\n",
    "movieDetails = spark.read.csv('movies.dat',sep = '::', header = False, schema = schema)\n",
    "movieDetails.printSchema()"
   ]
  },
  {
   "cell_type": "code",
   "execution_count": 30,
   "metadata": {},
   "outputs": [
    {
     "data": {
      "text/plain": [
       "[Row(movieId=1, title='Toy Story (1995)', genres=\"Animation|Children's|Comedy\"),\n",
       " Row(movieId=2, title='Jumanji (1995)', genres=\"Adventure|Children's|Fantasy\"),\n",
       " Row(movieId=3, title='Grumpier Old Men (1995)', genres='Comedy|Romance')]"
      ]
     },
     "execution_count": 30,
     "metadata": {},
     "output_type": "execute_result"
    }
   ],
   "source": [
    "movieDetails.head(3)"
   ]
  },
  {
   "cell_type": "code",
   "execution_count": 31,
   "metadata": {},
   "outputs": [
    {
     "name": "stdout",
     "output_type": "stream",
     "text": [
      "root\n",
      " |-- UserID: integer (nullable = true)\n",
      " |-- Gender: string (nullable = true)\n",
      " |-- Age: integer (nullable = true)\n",
      " |-- Occupation: integer (nullable = true)\n",
      " |-- Zipcode: integer (nullable = true)\n",
      "\n"
     ]
    }
   ],
   "source": [
    "schema = StructType([StructField('UserID', IntegerType(), True),\n",
    "                     StructField('Gender', StringType(), True),\n",
    "                     StructField('Age', IntegerType(), True),\n",
    "                     StructField('Occupation', IntegerType(), True),\n",
    "                     StructField('Zipcode', IntegerType(), True)])\n",
    "occupation ={\n",
    "  0:  \"other\", \n",
    "  1:  \"academic/educator\",\n",
    "  2:  \"artist\",\n",
    "  3:  \"clerical/admin\",\n",
    "  4:  \"college/grad student\",\n",
    "  5:  \"customer service\",\n",
    "  6:  \"doctor/health care\",\n",
    "  7:  \"executive/managerial\",\n",
    "  8:  \"farmer\",\n",
    "  9:  \"homemaker\",\n",
    " 10:  \"K-12 student\",\n",
    " 11:  \"lawyer\",\n",
    " 12:  \"programmer\",\n",
    " 13:  \"retired\",\n",
    " 14:  \"sales/marketing\",\n",
    " 15:  \"scientist\",\n",
    " 16:  \"self-employed\",\n",
    " 17:  \"technician/engineer\",\n",
    " 18:  \"tradesman/craftsman\",\n",
    " 19:  \"unemployed\",\n",
    " 20:  \"writer\"  \n",
    "    \n",
    "}\n",
    "userDetails = spark.read.csv('users.dat',sep = '::', header = False, schema = schema)\n",
    "userDetails.printSchema()\n",
    "userDetails.head(3)"
   ]
  },
  {
   "cell_type": "code",
   "execution_count": 32,
   "metadata": {},
   "outputs": [
    {
     "data": {
      "text/plain": [
       "[Row(UserID=1, Gender='F', Age=1, Occupation=10, Zipcode=48067),\n",
       " Row(UserID=2, Gender='M', Age=56, Occupation=16, Zipcode=70072),\n",
       " Row(UserID=3, Gender='M', Age=25, Occupation=15, Zipcode=55117)]"
      ]
     },
     "execution_count": 32,
     "metadata": {},
     "output_type": "execute_result"
    }
   ],
   "source": [
    "userDetails.head(3)"
   ]
  },
  {
   "cell_type": "markdown",
   "metadata": {},
   "source": [
    "# Movie recommendations "
   ]
  },
  {
   "cell_type": "code",
   "execution_count": 33,
   "metadata": {},
   "outputs": [
    {
     "name": "stderr",
     "output_type": "stream",
     "text": [
      "[Stage 219:=========================================>            (76 + 8) / 100]\r"
     ]
    },
    {
     "name": "stdout",
     "output_type": "stream",
     "text": [
      "+------+--------------------+\n",
      "|userId|     recommendations|\n",
      "+------+--------------------+\n",
      "|    26|[{2545, 6.608972}...|\n",
      "|    27|[{526, 9.283108},...|\n",
      "|    28|[{2785, 6.45993},...|\n",
      "|    31|[{583, 7.960484},...|\n",
      "|    34|[{2157, 7.7260346...|\n",
      "|    44|[{128, 7.1540003}...|\n",
      "|    53|[{793, 6.404241},...|\n",
      "|    65|[{3854, 7.442017}...|\n",
      "|    76|[{3636, 6.9789863...|\n",
      "|    78|[{1504, 6.8341}, ...|\n",
      "|    81|[{341, 9.037582},...|\n",
      "|    85|[{649, 10.921098}...|\n",
      "|   101|[{2388, 8.584005}...|\n",
      "|   103|[{341, 8.10499}, ...|\n",
      "|   108|[{2674, 9.1541395...|\n",
      "|   115|[{2964, 11.108625...|\n",
      "|   126|[{2128, 9.695844}...|\n",
      "|   133|[{2128, 8.40657},...|\n",
      "|   137|[{2512, 6.748901}...|\n",
      "|   148|[{3854, 7.0310674...|\n",
      "+------+--------------------+\n",
      "only showing top 20 rows\n",
      "\n"
     ]
    },
    {
     "name": "stderr",
     "output_type": "stream",
     "text": [
      "                                                                                \r"
     ]
    }
   ],
   "source": [
    "# Movie Recommendations\n",
    "# Generate top 10 movie recommendations for each user\n",
    "userRecs = model.recommendForAllUsers(10)\n",
    "# userRecs.show()\n",
    "userRecsExplode = userRecs.select(userRecs.userId,f.explode(userRecs.recommendations)).orderBy(userRecs.userId)\n",
    "userRecsExplode.show()"
   ]
  },
  {
   "cell_type": "code",
   "execution_count": 34,
   "metadata": {},
   "outputs": [
    {
     "name": "stderr",
     "output_type": "stream",
     "text": [
      "[Stage 248:====================================================> (97 + 3) / 100]\r"
     ]
    },
    {
     "name": "stdout",
     "output_type": "stream",
     "text": [
      "+------+-----------------+\n",
      "|userId|              col|\n",
      "+------+-----------------+\n",
      "|     1|  {297, 7.651825}|\n",
      "|     1|  {2984, 7.62075}|\n",
      "|     1| {1181, 7.365942}|\n",
      "|     1| {583, 7.3479505}|\n",
      "|     1| {860, 7.0517154}|\n",
      "|     1|{2758, 7.0380554}|\n",
      "|     1| {3092, 7.028389}|\n",
      "|     1| {3010, 6.685078}|\n",
      "|     1|{1426, 6.6842637}|\n",
      "|     1|   {72, 6.668399}|\n",
      "|     2| {1038, 6.575716}|\n",
      "|     2|{1058, 6.5158105}|\n",
      "|     2| {2209, 6.379738}|\n",
      "|     2| {844, 6.1593995}|\n",
      "|     2|   {128, 6.10542}|\n",
      "|     2| {2175, 5.911818}|\n",
      "|     2|{2897, 5.8956857}|\n",
      "|     2|    {59, 5.87255}|\n",
      "|     2|{3874, 5.4844913}|\n",
      "|     2| {1564, 5.457382}|\n",
      "+------+-----------------+\n",
      "only showing top 20 rows\n",
      "\n"
     ]
    },
    {
     "name": "stderr",
     "output_type": "stream",
     "text": [
      "                                                                                \r"
     ]
    }
   ],
   "source": [
    "userRecsExplode = userRecs.select(userRecs.userId,f.explode(userRecs.recommendations)).orderBy(userRecs.userId)\n",
    "userRecsExplode.show()"
   ]
  },
  {
   "cell_type": "code",
   "execution_count": 35,
   "metadata": {},
   "outputs": [
    {
     "name": "stderr",
     "output_type": "stream",
     "text": [
      "[Stage 277:==========>   (74 + 8) / 100][Stage 278:>                (0 + 0) / 1]\r"
     ]
    },
    {
     "name": "stdout",
     "output_type": "stream",
     "text": [
      "+-------+--------------------+--------------------+--------------------+\n",
      "|movieId|               title|              genres|     recommendations|\n",
      "+-------+--------------------+--------------------+--------------------+\n",
      "|     12|Dracula: Dead and...|       Comedy|Horror|[{4504, 10.700329...|\n",
      "|     26|      Othello (1995)|               Drama|[{917, 6.8927784}...|\n",
      "|     27| Now and Then (1995)|               Drama|[{4056, 9.164587}...|\n",
      "|     28|   Persuasion (1995)|             Romance|[{5320, 7.19597},...|\n",
      "|     31|Dangerous Minds (...|               Drama|[{5297, 6.774862}...|\n",
      "|     34|         Babe (1995)|Children's|Comedy...|[{3165, 6.19402},...|\n",
      "|     44|Mortal Kombat (1995)|    Action|Adventure|[{5320, 6.6046824...|\n",
      "|     53|     Lamerica (1994)|               Drama|[{1445, 9.687789}...|\n",
      "|     65|     Bio-Dome (1996)|              Comedy|[{2441, 8.251137}...|\n",
      "|     76|    Screamers (1995)|     Sci-Fi|Thriller|[{3165, 6.1382136...|\n",
      "|     78|Crossing Guard, T...|               Drama|[{3165, 10.331643...|\n",
      "|     81|Things to Do in D...| Crime|Drama|Romance|[{1445, 10.34183}...|\n",
      "|     85|Angels and Insect...|       Drama|Romance|[{1664, 8.50599},...|\n",
      "|    101|Bottle Rocket (1996)|              Comedy|[{4894, 6.016384}...|\n",
      "|    103|Unforgettable (1996)|            Thriller|[{1664, 14.33216}...|\n",
      "|    108|      Catwalk (1995)|         Documentary|[{3021, 9.821555}...|\n",
      "|    126|NeverEnding Story...|Adventure|Childre...|[{4504, 7.3475065...|\n",
      "|    137|Man of the Year (...|         Documentary|[{1213, 10.634399...|\n",
      "|    148|Awfully Big Adven...|               Drama|[{1664, 13.537367...|\n",
      "|    155|Beyond Rangoon (1...|           Drama|War|[{2560, 8.451972}...|\n",
      "+-------+--------------------+--------------------+--------------------+\n",
      "only showing top 20 rows\n",
      "\n"
     ]
    },
    {
     "name": "stderr",
     "output_type": "stream",
     "text": [
      "                                                                                \r"
     ]
    }
   ],
   "source": [
    "# Generate top 10 user recommendations for each movie\n",
    "movieRecs = model.recommendForAllItems(10)\n",
    "# movieRecs.join(movieDetails,movieRecs.movieId==movieDetails.movieId,\"left\").select([movieRecs.movieId,movieDetails.title,movieDetails.genres,movieRecs.recommendations]).show()\n",
    "movieRecsExplode = movieRecs.select(movieRecs.movieId,f.explode(movieRecs.recommendations)).orderBy(movieRecs.movieId)\n",
    "movieRecsExplode.join(movieDetails,movieRecsExplode.movieId==movieDetails.movieId,\"left\").select([movieRecsExplode.movieId,movieDetails.title,movieDetails.genres,movieRecsExplode.col.alias('recommendation')]).show()"
   ]
  },
  {
   "cell_type": "code",
   "execution_count": 36,
   "metadata": {},
   "outputs": [
    {
     "name": "stderr",
     "output_type": "stream",
     "text": [
      "[Stage 307:============> (91 + 8) / 100][Stage 308:>                (0 + 0) / 1]\r"
     ]
    },
    {
     "name": "stdout",
     "output_type": "stream",
     "text": [
      "+-------+--------------------+-------------+-----------------+\n",
      "|movieId|               title|       genres|   recommendation|\n",
      "+-------+--------------------+-------------+-----------------+\n",
      "|     12|Dracula: Dead and...|Comedy|Horror|{4504, 10.700329}|\n",
      "|     12|Dracula: Dead and...|Comedy|Horror| {3404, 8.776536}|\n",
      "|     12|Dracula: Dead and...|Comedy|Horror| {2502, 8.501911}|\n",
      "|     12|Dracula: Dead and...|Comedy|Horror|  {527, 8.216371}|\n",
      "|     12|Dracula: Dead and...|Comedy|Horror|{2908, 7.9429936}|\n",
      "|     12|Dracula: Dead and...|Comedy|Horror|{3222, 7.6486673}|\n",
      "|     12|Dracula: Dead and...|Comedy|Horror| {6027, 7.617967}|\n",
      "|     12|Dracula: Dead and...|Comedy|Horror| {606, 7.5262337}|\n",
      "|     12|Dracula: Dead and...|Comedy|Horror|{1310, 7.5227346}|\n",
      "|     12|Dracula: Dead and...|Comedy|Horror| {4758, 7.521691}|\n",
      "|     26|      Othello (1995)|        Drama| {917, 6.8927784}|\n",
      "|     26|      Othello (1995)|        Drama| {5760, 6.836006}|\n",
      "|     26|      Othello (1995)|        Drama| {906, 6.6073856}|\n",
      "|     26|      Othello (1995)|        Drama| {1520, 6.434725}|\n",
      "|     26|      Othello (1995)|        Drama|  {892, 6.419723}|\n",
      "|     26|      Othello (1995)|        Drama| {1849, 6.104148}|\n",
      "|     26|      Othello (1995)|        Drama|{4863, 6.0393653}|\n",
      "|     26|      Othello (1995)|        Drama|{4504, 6.0086503}|\n",
      "|     26|      Othello (1995)|        Drama|{3494, 5.9774985}|\n",
      "|     26|      Othello (1995)|        Drama| {3577, 5.844005}|\n",
      "+-------+--------------------+-------------+-----------------+\n",
      "only showing top 20 rows\n",
      "\n"
     ]
    },
    {
     "name": "stderr",
     "output_type": "stream",
     "text": [
      "                                                                                \r"
     ]
    }
   ],
   "source": [
    "movieRecsExplode = movieRecs.select(movieRecs.movieId,f.explode(movieRecs.recommendations)).orderBy(movieRecs.movieId)\n",
    "movieRecsExplode.join(movieDetails,movieRecsExplode.movieId==movieDetails.movieId,\"left\").select([movieRecsExplode.movieId,movieDetails.title,movieDetails.genres,movieRecsExplode.col.alias('recommendation')]).show()"
   ]
  },
  {
   "cell_type": "code",
   "execution_count": 37,
   "metadata": {},
   "outputs": [
    {
     "name": "stdout",
     "output_type": "stream",
     "text": [
      "+------+-------+--------------------+--------------------+\n",
      "|userId|movieId|               title|              genres|\n",
      "+------+-------+--------------------+--------------------+\n",
      "|    11|     47|Seven (Se7en) (1995)|      Crime|Thriller|\n",
      "|    11|    246|  Hoop Dreams (1994)|         Documentary|\n",
      "|    11|    272|Madness of King G...|               Drama|\n",
      "|    11|    318|Shawshank Redempt...|               Drama|\n",
      "|    11|    333|    Tommy Boy (1995)|              Comedy|\n",
      "|    11|    441|Dazed and Confuse...|              Comedy|\n",
      "|    11|    481|   Kalifornia (1993)|      Drama|Thriller|\n",
      "|    11|    515|Remains of the Da...|               Drama|\n",
      "|    11|    551|Nightmare Before ...|Children's|Comedy...|\n",
      "|    11|    586|   Home Alone (1990)|   Children's|Comedy|\n",
      "|    11|    764|        Heavy (1995)|       Drama|Romance|\n",
      "|    11|   1089|Reservoir Dogs (1...|      Crime|Thriller|\n",
      "|    11|   1188|Strictly Ballroom...|      Comedy|Romance|\n",
      "|    11|   1198|Raiders of the Lo...|    Action|Adventure|\n",
      "|    11|   1213|   GoodFellas (1990)|         Crime|Drama|\n",
      "|    11|   1244|    Manhattan (1979)|Comedy|Drama|Romance|\n",
      "|    11|   1259|  Stand by Me (1986)|Adventure|Comedy|...|\n",
      "|    11|   1265|Groundhog Day (1993)|      Comedy|Romance|\n",
      "|    11|   1394|Raising Arizona (...|              Comedy|\n",
      "|    11|   1498|Inventing the Abb...|       Drama|Romance|\n",
      "+------+-------+--------------------+--------------------+\n",
      "only showing top 20 rows\n",
      "\n"
     ]
    }
   ],
   "source": [
    "# Generate top 10 movie recommendations for a specified set of users\n",
    "singleUser = test_data.filter(test_data.userId==11).select(['movieId','userId'])\n",
    "singleUser.join(movieDetails,singleUser.movieId==movieDetails.movieId,\"left\").select([singleUser.userId,singleUser.movieId,movieDetails.title,movieDetails.genres]).show()"
   ]
  },
  {
   "cell_type": "code",
   "execution_count": 38,
   "metadata": {},
   "outputs": [
    {
     "name": "stdout",
     "output_type": "stream",
     "text": [
      "+------+--------------------+\n",
      "|userId|     recommendations|\n",
      "+------+--------------------+\n",
      "|    11|[{2157, 9.082993}...|\n",
      "+------+--------------------+\n",
      "\n"
     ]
    }
   ],
   "source": [
    "userSubsetRecs = model.recommendForUserSubset(singleUser, 10)\n",
    "userSubsetRecs.show()"
   ]
  },
  {
   "cell_type": "code",
   "execution_count": 39,
   "metadata": {},
   "outputs": [
    {
     "name": "stdout",
     "output_type": "stream",
     "text": [
      "+------+-----------------+\n",
      "|userId|              col|\n",
      "+------+-----------------+\n",
      "|    11| {2157, 9.082993}|\n",
      "|    11|  {793, 7.806675}|\n",
      "|    11|{1539, 7.0899663}|\n",
      "|    11| {2892, 7.001297}|\n",
      "|    11|  {561, 6.989329}|\n",
      "|    11| {2466, 6.879111}|\n",
      "|    11|{2209, 6.8694057}|\n",
      "|    11| {3711, 6.842184}|\n",
      "|    11| {495, 6.5796084}|\n",
      "|    11|{2602, 6.4957123}|\n",
      "+------+-----------------+\n",
      "\n"
     ]
    }
   ],
   "source": [
    "userSubsetRecsExplode = userSubsetRecs.select(userSubsetRecs.userId,f.explode(userSubsetRecs.recommendations))\n",
    "userSubsetRecsExplode.show()"
   ]
  },
  {
   "cell_type": "code",
   "execution_count": 40,
   "metadata": {},
   "outputs": [
    {
     "name": "stdout",
     "output_type": "stream",
     "text": [
      "+-------+------+----------+\n",
      "|movieId|userId|prediction|\n",
      "+-------+------+----------+\n",
      "|   1923|    11| 4.4603453|\n",
      "|    318|    11| 4.4476805|\n",
      "|   1394|    11|  4.422484|\n",
      "|   1732|    11|  4.422385|\n",
      "|   1213|    11|  4.354578|\n",
      "|    333|    11|  4.270006|\n",
      "|   3552|    11| 4.2437677|\n",
      "|   1089|    11|  4.204986|\n",
      "|   1704|    11| 4.1901064|\n",
      "|   2918|    11| 4.1666775|\n",
      "|   2329|    11| 4.0828342|\n",
      "|   2804|    11| 4.0135565|\n",
      "|   1244|    11| 3.9353898|\n",
      "|   2706|    11| 3.8801434|\n",
      "|    246|    11| 3.8608074|\n",
      "|     47|    11| 3.8278868|\n",
      "|    441|    11| 3.8173943|\n",
      "|    551|    11| 3.7835927|\n",
      "|   1198|    11| 3.7584832|\n",
      "|   1259|    11|  3.693514|\n",
      "+-------+------+----------+\n",
      "only showing top 20 rows\n",
      "\n"
     ]
    }
   ],
   "source": [
    "recommendations = model.transform(singleUser)\n",
    "userRecommendations= recommendations.orderBy('prediction',ascending=False)\n",
    "userRecommendations.show()"
   ]
  },
  {
   "cell_type": "code",
   "execution_count": 41,
   "metadata": {},
   "outputs": [
    {
     "name": "stdout",
     "output_type": "stream",
     "text": [
      "+------+--------------------+--------------------+----------+\n",
      "|userId|               title|              genres|prediction|\n",
      "+------+--------------------+--------------------+----------+\n",
      "|    11|Groundhog Day (1993)|      Comedy|Romance| 3.6058524|\n",
      "|    11|   Kalifornia (1993)|      Drama|Thriller| 2.8247309|\n",
      "|    11|Raiders of the Lo...|    Action|Adventure| 3.7584832|\n",
      "|    11|  Stand by Me (1986)|Adventure|Comedy|...|  3.693514|\n",
      "|    11|    Tommy Boy (1995)|              Comedy|  4.270006|\n",
      "|    11|  Hoop Dreams (1994)|         Documentary| 3.8608074|\n",
      "|    11|Seven (Se7en) (1995)|      Crime|Thriller| 3.8278868|\n",
      "|    11|    Manhattan (1979)|Comedy|Drama|Romance| 3.9353898|\n",
      "|    11|Reservoir Dogs (1...|      Crime|Thriller|  4.204986|\n",
      "|    11|Raising Arizona (...|              Comedy|  4.422484|\n",
      "|    11|Deconstructing Ha...|        Comedy|Drama| 3.1456385|\n",
      "|    11|        Heavy (1995)|       Drama|Romance| 1.8397661|\n",
      "|    11|Shawshank Redempt...|               Drama| 4.4476805|\n",
      "|    11|   Home Alone (1990)|   Children's|Comedy| 2.4315722|\n",
      "|    11|Dazed and Confuse...|              Comedy| 3.8173943|\n",
      "|    11|Inventing the Abb...|       Drama|Romance| 2.4990585|\n",
      "|    11|   GoodFellas (1990)|         Crime|Drama|  4.354578|\n",
      "|    11|Strictly Ballroom...|      Comedy|Romance| 2.6065788|\n",
      "|    11|Madness of King G...|               Drama| 3.3120167|\n",
      "|    11|Remains of the Da...|               Drama|  2.990335|\n",
      "+------+--------------------+--------------------+----------+\n",
      "only showing top 20 rows\n",
      "\n"
     ]
    }
   ],
   "source": [
    "userRecommendations.join(movieDetails,userRecommendations.movieId==movieDetails.movieId,\"left\").select([userRecommendations.userId,movieDetails.title,movieDetails.genres,userRecommendations.prediction]).show()"
   ]
  },
  {
   "cell_type": "code",
   "execution_count": 42,
   "metadata": {},
   "outputs": [
    {
     "name": "stdout",
     "output_type": "stream",
     "text": [
      "+-------+----------------+--------------------+------+\n",
      "|movieId|           title|              genres|userId|\n",
      "+-------+----------------+--------------------+------+\n",
      "|      1|Toy Story (1995)|Animation|Childre...|     6|\n",
      "|      1|Toy Story (1995)|Animation|Childre...|    28|\n",
      "|      1|Toy Story (1995)|Animation|Childre...|    44|\n",
      "|      1|Toy Story (1995)|Animation|Childre...|    45|\n",
      "|      1|Toy Story (1995)|Animation|Childre...|    51|\n",
      "|      1|Toy Story (1995)|Animation|Childre...|    60|\n",
      "|      1|Toy Story (1995)|Animation|Childre...|    68|\n",
      "|      1|Toy Story (1995)|Animation|Childre...|    73|\n",
      "|      1|Toy Story (1995)|Animation|Childre...|    76|\n",
      "|      1|Toy Story (1995)|Animation|Childre...|    78|\n",
      "|      1|Toy Story (1995)|Animation|Childre...|    99|\n",
      "|      1|Toy Story (1995)|Animation|Childre...|   112|\n",
      "|      1|Toy Story (1995)|Animation|Childre...|   121|\n",
      "|      1|Toy Story (1995)|Animation|Childre...|   123|\n",
      "|      1|Toy Story (1995)|Animation|Childre...|   134|\n",
      "|      1|Toy Story (1995)|Animation|Childre...|   136|\n",
      "|      1|Toy Story (1995)|Animation|Childre...|   139|\n",
      "|      1|Toy Story (1995)|Animation|Childre...|   146|\n",
      "|      1|Toy Story (1995)|Animation|Childre...|   152|\n",
      "|      1|Toy Story (1995)|Animation|Childre...|   186|\n",
      "+-------+----------------+--------------------+------+\n",
      "only showing top 20 rows\n",
      "\n"
     ]
    }
   ],
   "source": [
    "# Generate top 10 user recommendations for a specified set of movies\n",
    "singleMovie = test_data.filter(test_data.movieId==1).select(['movieId','userId'])\n",
    "singleMovie.join(movieDetails,singleMovie.movieId==movieDetails.movieId,\"left\").select([singleMovie.movieId,movieDetails.title,movieDetails.genres,singleMovie.userId]).show()"
   ]
  },
  {
   "cell_type": "code",
   "execution_count": 43,
   "metadata": {},
   "outputs": [
    {
     "name": "stdout",
     "output_type": "stream",
     "text": [
      "+-------+----------------+--------------------+--------------------+\n",
      "|movieId|           title|              genres|     recommendations|\n",
      "+-------+----------------+--------------------+--------------------+\n",
      "|      1|Toy Story (1995)|Animation|Childre...|[{1341, 6.233338}...|\n",
      "+-------+----------------+--------------------+--------------------+\n",
      "\n"
     ]
    }
   ],
   "source": [
    "movieSubSetRecs = model.recommendForItemSubset(singleMovie, 10)\n",
    "movieSubSetRecs.join(movieDetails,movieSubSetRecs.movieId==movieDetails.movieId,\"left\").select([movieSubSetRecs.movieId,movieDetails.title,movieDetails.genres,movieSubSetRecs.recommendations]).show()"
   ]
  },
  {
   "cell_type": "code",
   "execution_count": 44,
   "metadata": {},
   "outputs": [
    {
     "name": "stdout",
     "output_type": "stream",
     "text": [
      "+-------+----------------+--------------------+-----------------+\n",
      "|movieId|           title|              genres|   recommendation|\n",
      "+-------+----------------+--------------------+-----------------+\n",
      "|      1|Toy Story (1995)|Animation|Childre...| {1341, 6.233338}|\n",
      "|      1|Toy Story (1995)|Animation|Childre...|{2432, 5.9119587}|\n",
      "|      1|Toy Story (1995)|Animation|Childre...| {2867, 5.817516}|\n",
      "|      1|Toy Story (1995)|Animation|Childre...|  {535, 5.653746}|\n",
      "|      1|Toy Story (1995)|Animation|Childre...|{2431, 5.5299263}|\n",
      "|      1|Toy Story (1995)|Animation|Childre...|{1081, 5.4990344}|\n",
      "|      1|Toy Story (1995)|Animation|Childre...|{4672, 5.4836683}|\n",
      "|      1|Toy Story (1995)|Animation|Childre...| {1620, 5.482055}|\n",
      "|      1|Toy Story (1995)|Animation|Childre...|{5072, 5.4706435}|\n",
      "|      1|Toy Story (1995)|Animation|Childre...| {665, 5.4675655}|\n",
      "+-------+----------------+--------------------+-----------------+\n",
      "\n"
     ]
    }
   ],
   "source": [
    "movieSubSetRecsExplode = movieSubSetRecs.select(movieSubSetRecs.movieId,f.explode(movieSubSetRecs.recommendations))\n",
    "movieSubSetRecsExplode.join(movieDetails,movieSubSetRecsExplode.movieId==movieDetails.movieId,\"left\").select([movieSubSetRecsExplode.movieId,movieDetails.title,movieDetails.genres,movieSubSetRecsExplode.col.alias('recommendation')]).show()"
   ]
  },
  {
   "cell_type": "code",
   "execution_count": null,
   "metadata": {},
   "outputs": [],
   "source": []
  }
 ],
 "metadata": {
  "kernelspec": {
   "display_name": "Python 3",
   "language": "python",
   "name": "python3"
  },
  "language_info": {
   "codemirror_mode": {
    "name": "ipython",
    "version": 3
   },
   "file_extension": ".py",
   "mimetype": "text/x-python",
   "name": "python",
   "nbconvert_exporter": "python",
   "pygments_lexer": "ipython3",
   "version": "3.11.5"
  }
 },
 "nbformat": 4,
 "nbformat_minor": 4
}
